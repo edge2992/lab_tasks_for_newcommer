{
 "cells": [
  {
   "cell_type": "code",
   "execution_count": 2,
   "metadata": {},
   "outputs": [
    {
     "name": "stderr",
     "output_type": "stream",
     "text": [
      "/usr/lib/python3.7/importlib/_bootstrap.py:219: RuntimeWarning: numpy.ufunc size changed, may indicate binary incompatibility. Expected 192 from C header, got 216 from PyObject\n",
      "  return f(*args, **kwds)\n"
     ]
    }
   ],
   "source": [
    "import pandas as pd"
   ]
  },
  {
   "cell_type": "code",
   "execution_count": 3,
   "metadata": {},
   "outputs": [],
   "source": [
    "df = pd.read_csv('data/ionosphere_data_kaggle.csv')"
   ]
  },
  {
   "cell_type": "code",
   "execution_count": 4,
   "metadata": {
    "scrolled": true
   },
   "outputs": [
    {
     "data": {
      "text/html": [
       "<div>\n",
       "<style scoped>\n",
       "    .dataframe tbody tr th:only-of-type {\n",
       "        vertical-align: middle;\n",
       "    }\n",
       "\n",
       "    .dataframe tbody tr th {\n",
       "        vertical-align: top;\n",
       "    }\n",
       "\n",
       "    .dataframe thead th {\n",
       "        text-align: right;\n",
       "    }\n",
       "</style>\n",
       "<table border=\"1\" class=\"dataframe\">\n",
       "  <thead>\n",
       "    <tr style=\"text-align: right;\">\n",
       "      <th></th>\n",
       "      <th>feature1</th>\n",
       "      <th>feature2</th>\n",
       "      <th>feature3</th>\n",
       "      <th>feature4</th>\n",
       "      <th>feature5</th>\n",
       "      <th>feature6</th>\n",
       "      <th>feature7</th>\n",
       "      <th>feature8</th>\n",
       "      <th>feature9</th>\n",
       "      <th>feature10</th>\n",
       "      <th>...</th>\n",
       "      <th>feature26</th>\n",
       "      <th>feature27</th>\n",
       "      <th>feature28</th>\n",
       "      <th>feature29</th>\n",
       "      <th>feature30</th>\n",
       "      <th>feature31</th>\n",
       "      <th>feature32</th>\n",
       "      <th>feature33</th>\n",
       "      <th>feature34</th>\n",
       "      <th>label</th>\n",
       "    </tr>\n",
       "  </thead>\n",
       "  <tbody>\n",
       "    <tr>\n",
       "      <th>0</th>\n",
       "      <td>1</td>\n",
       "      <td>0</td>\n",
       "      <td>0.99539</td>\n",
       "      <td>-0.05889</td>\n",
       "      <td>0.85243</td>\n",
       "      <td>0.02306</td>\n",
       "      <td>0.83398</td>\n",
       "      <td>-0.37708</td>\n",
       "      <td>1.00000</td>\n",
       "      <td>0.03760</td>\n",
       "      <td>...</td>\n",
       "      <td>-0.51171</td>\n",
       "      <td>0.41078</td>\n",
       "      <td>-0.46168</td>\n",
       "      <td>0.21266</td>\n",
       "      <td>-0.34090</td>\n",
       "      <td>0.42267</td>\n",
       "      <td>-0.54487</td>\n",
       "      <td>0.18641</td>\n",
       "      <td>-0.45300</td>\n",
       "      <td>g</td>\n",
       "    </tr>\n",
       "    <tr>\n",
       "      <th>1</th>\n",
       "      <td>1</td>\n",
       "      <td>0</td>\n",
       "      <td>1.00000</td>\n",
       "      <td>-0.18829</td>\n",
       "      <td>0.93035</td>\n",
       "      <td>-0.36156</td>\n",
       "      <td>-0.10868</td>\n",
       "      <td>-0.93597</td>\n",
       "      <td>1.00000</td>\n",
       "      <td>-0.04549</td>\n",
       "      <td>...</td>\n",
       "      <td>-0.26569</td>\n",
       "      <td>-0.20468</td>\n",
       "      <td>-0.18401</td>\n",
       "      <td>-0.19040</td>\n",
       "      <td>-0.11593</td>\n",
       "      <td>-0.16626</td>\n",
       "      <td>-0.06288</td>\n",
       "      <td>-0.13738</td>\n",
       "      <td>-0.02447</td>\n",
       "      <td>b</td>\n",
       "    </tr>\n",
       "    <tr>\n",
       "      <th>2</th>\n",
       "      <td>1</td>\n",
       "      <td>0</td>\n",
       "      <td>1.00000</td>\n",
       "      <td>-0.03365</td>\n",
       "      <td>1.00000</td>\n",
       "      <td>0.00485</td>\n",
       "      <td>1.00000</td>\n",
       "      <td>-0.12062</td>\n",
       "      <td>0.88965</td>\n",
       "      <td>0.01198</td>\n",
       "      <td>...</td>\n",
       "      <td>-0.40220</td>\n",
       "      <td>0.58984</td>\n",
       "      <td>-0.22145</td>\n",
       "      <td>0.43100</td>\n",
       "      <td>-0.17365</td>\n",
       "      <td>0.60436</td>\n",
       "      <td>-0.24180</td>\n",
       "      <td>0.56045</td>\n",
       "      <td>-0.38238</td>\n",
       "      <td>g</td>\n",
       "    </tr>\n",
       "    <tr>\n",
       "      <th>3</th>\n",
       "      <td>1</td>\n",
       "      <td>0</td>\n",
       "      <td>1.00000</td>\n",
       "      <td>-0.45161</td>\n",
       "      <td>1.00000</td>\n",
       "      <td>1.00000</td>\n",
       "      <td>0.71216</td>\n",
       "      <td>-1.00000</td>\n",
       "      <td>0.00000</td>\n",
       "      <td>0.00000</td>\n",
       "      <td>...</td>\n",
       "      <td>0.90695</td>\n",
       "      <td>0.51613</td>\n",
       "      <td>1.00000</td>\n",
       "      <td>1.00000</td>\n",
       "      <td>-0.20099</td>\n",
       "      <td>0.25682</td>\n",
       "      <td>1.00000</td>\n",
       "      <td>-0.32382</td>\n",
       "      <td>1.00000</td>\n",
       "      <td>b</td>\n",
       "    </tr>\n",
       "    <tr>\n",
       "      <th>4</th>\n",
       "      <td>1</td>\n",
       "      <td>0</td>\n",
       "      <td>1.00000</td>\n",
       "      <td>-0.02401</td>\n",
       "      <td>0.94140</td>\n",
       "      <td>0.06531</td>\n",
       "      <td>0.92106</td>\n",
       "      <td>-0.23255</td>\n",
       "      <td>0.77152</td>\n",
       "      <td>-0.16399</td>\n",
       "      <td>...</td>\n",
       "      <td>-0.65158</td>\n",
       "      <td>0.13290</td>\n",
       "      <td>-0.53206</td>\n",
       "      <td>0.02431</td>\n",
       "      <td>-0.62197</td>\n",
       "      <td>-0.05707</td>\n",
       "      <td>-0.59573</td>\n",
       "      <td>-0.04608</td>\n",
       "      <td>-0.65697</td>\n",
       "      <td>g</td>\n",
       "    </tr>\n",
       "  </tbody>\n",
       "</table>\n",
       "<p>5 rows × 35 columns</p>\n",
       "</div>"
      ],
      "text/plain": [
       "   feature1  feature2  feature3  feature4  feature5  feature6  feature7  \\\n",
       "0         1         0   0.99539  -0.05889   0.85243   0.02306   0.83398   \n",
       "1         1         0   1.00000  -0.18829   0.93035  -0.36156  -0.10868   \n",
       "2         1         0   1.00000  -0.03365   1.00000   0.00485   1.00000   \n",
       "3         1         0   1.00000  -0.45161   1.00000   1.00000   0.71216   \n",
       "4         1         0   1.00000  -0.02401   0.94140   0.06531   0.92106   \n",
       "\n",
       "   feature8  feature9  feature10  ...  feature26  feature27  feature28  \\\n",
       "0  -0.37708   1.00000    0.03760  ...   -0.51171    0.41078   -0.46168   \n",
       "1  -0.93597   1.00000   -0.04549  ...   -0.26569   -0.20468   -0.18401   \n",
       "2  -0.12062   0.88965    0.01198  ...   -0.40220    0.58984   -0.22145   \n",
       "3  -1.00000   0.00000    0.00000  ...    0.90695    0.51613    1.00000   \n",
       "4  -0.23255   0.77152   -0.16399  ...   -0.65158    0.13290   -0.53206   \n",
       "\n",
       "   feature29  feature30  feature31  feature32  feature33  feature34  label  \n",
       "0    0.21266   -0.34090    0.42267   -0.54487    0.18641   -0.45300      g  \n",
       "1   -0.19040   -0.11593   -0.16626   -0.06288   -0.13738   -0.02447      b  \n",
       "2    0.43100   -0.17365    0.60436   -0.24180    0.56045   -0.38238      g  \n",
       "3    1.00000   -0.20099    0.25682    1.00000   -0.32382    1.00000      b  \n",
       "4    0.02431   -0.62197   -0.05707   -0.59573   -0.04608   -0.65697      g  \n",
       "\n",
       "[5 rows x 35 columns]"
      ]
     },
     "execution_count": 4,
     "metadata": {},
     "output_type": "execute_result"
    }
   ],
   "source": [
    "df.head()"
   ]
  },
  {
   "cell_type": "code",
   "execution_count": 5,
   "metadata": {
    "scrolled": true
   },
   "outputs": [
    {
     "name": "stdout",
     "output_type": "stream",
     "text": [
      "feature1     0\n",
      "feature2     0\n",
      "feature3     0\n",
      "feature4     0\n",
      "feature5     0\n",
      "feature6     0\n",
      "feature7     0\n",
      "feature8     0\n",
      "feature9     0\n",
      "feature10    0\n",
      "feature11    0\n",
      "feature12    0\n",
      "feature13    0\n",
      "feature14    0\n",
      "feature15    0\n",
      "feature16    0\n",
      "feature17    0\n",
      "feature18    0\n",
      "feature19    0\n",
      "feature20    0\n",
      "feature21    0\n",
      "feature22    0\n",
      "feature23    0\n",
      "feature24    0\n",
      "feature25    0\n",
      "feature26    0\n",
      "feature27    0\n",
      "feature28    0\n",
      "feature29    0\n",
      "feature30    0\n",
      "feature31    0\n",
      "feature32    0\n",
      "feature33    0\n",
      "feature34    0\n",
      "label        0\n",
      "dtype: int64\n"
     ]
    }
   ],
   "source": [
    "print(df.isnull().sum())"
   ]
  },
  {
   "cell_type": "code",
   "execution_count": 6,
   "metadata": {
    "scrolled": true
   },
   "outputs": [
    {
     "name": "stderr",
     "output_type": "stream",
     "text": [
      "/home/edge2992/research/tutorial/03_learning/learning/lib/python3.7/site-packages/ipykernel_launcher.py:1: SettingWithCopyWarning: \n",
      "A value is trying to be set on a copy of a slice from a DataFrame\n",
      "\n",
      "See the caveats in the documentation: https://pandas.pydata.org/pandas-docs/stable/user_guide/indexing.html#returning-a-view-versus-a-copy\n",
      "  \"\"\"Entry point for launching an IPython kernel.\n",
      "/home/edge2992/research/tutorial/03_learning/learning/lib/python3.7/site-packages/ipykernel_launcher.py:2: SettingWithCopyWarning: \n",
      "A value is trying to be set on a copy of a slice from a DataFrame\n",
      "\n",
      "See the caveats in the documentation: https://pandas.pydata.org/pandas-docs/stable/user_guide/indexing.html#returning-a-view-versus-a-copy\n",
      "  \n"
     ]
    }
   ],
   "source": [
    "df['label'][df['label'] == 'b'] =0\n",
    "df['label'][df['label'] == 'g'] =1"
   ]
  },
  {
   "cell_type": "code",
   "execution_count": 7,
   "metadata": {},
   "outputs": [
    {
     "data": {
      "text/plain": [
       "dtype('int64')"
      ]
     },
     "execution_count": 7,
     "metadata": {},
     "output_type": "execute_result"
    }
   ],
   "source": [
    "import numpy as np\n",
    "df.describe()\n",
    "df['label'].unique()\n",
    "df['label'] = df['label'].astype(np.int64)\n",
    "df['label'].dtype"
   ]
  },
  {
   "cell_type": "code",
   "execution_count": 8,
   "metadata": {},
   "outputs": [],
   "source": [
    "X = df.drop([\"label\"], axis=1)\n",
    "Y = df[\"label\"]"
   ]
  },
  {
   "cell_type": "code",
   "execution_count": 9,
   "metadata": {
    "scrolled": true
   },
   "outputs": [
    {
     "data": {
      "text/html": [
       "<div>\n",
       "<style scoped>\n",
       "    .dataframe tbody tr th:only-of-type {\n",
       "        vertical-align: middle;\n",
       "    }\n",
       "\n",
       "    .dataframe tbody tr th {\n",
       "        vertical-align: top;\n",
       "    }\n",
       "\n",
       "    .dataframe thead th {\n",
       "        text-align: right;\n",
       "    }\n",
       "</style>\n",
       "<table border=\"1\" class=\"dataframe\">\n",
       "  <thead>\n",
       "    <tr style=\"text-align: right;\">\n",
       "      <th></th>\n",
       "      <th>feature1</th>\n",
       "      <th>feature2</th>\n",
       "      <th>feature3</th>\n",
       "      <th>feature4</th>\n",
       "      <th>feature5</th>\n",
       "      <th>feature6</th>\n",
       "      <th>feature7</th>\n",
       "      <th>feature8</th>\n",
       "      <th>feature9</th>\n",
       "      <th>feature10</th>\n",
       "      <th>...</th>\n",
       "      <th>feature25</th>\n",
       "      <th>feature26</th>\n",
       "      <th>feature27</th>\n",
       "      <th>feature28</th>\n",
       "      <th>feature29</th>\n",
       "      <th>feature30</th>\n",
       "      <th>feature31</th>\n",
       "      <th>feature32</th>\n",
       "      <th>feature33</th>\n",
       "      <th>feature34</th>\n",
       "    </tr>\n",
       "  </thead>\n",
       "  <tbody>\n",
       "    <tr>\n",
       "      <th>0</th>\n",
       "      <td>1</td>\n",
       "      <td>0</td>\n",
       "      <td>0.99539</td>\n",
       "      <td>-0.05889</td>\n",
       "      <td>0.85243</td>\n",
       "      <td>0.02306</td>\n",
       "      <td>0.83398</td>\n",
       "      <td>-0.37708</td>\n",
       "      <td>1.00000</td>\n",
       "      <td>0.03760</td>\n",
       "      <td>...</td>\n",
       "      <td>0.56811</td>\n",
       "      <td>-0.51171</td>\n",
       "      <td>0.41078</td>\n",
       "      <td>-0.46168</td>\n",
       "      <td>0.21266</td>\n",
       "      <td>-0.34090</td>\n",
       "      <td>0.42267</td>\n",
       "      <td>-0.54487</td>\n",
       "      <td>0.18641</td>\n",
       "      <td>-0.45300</td>\n",
       "    </tr>\n",
       "    <tr>\n",
       "      <th>1</th>\n",
       "      <td>1</td>\n",
       "      <td>0</td>\n",
       "      <td>1.00000</td>\n",
       "      <td>-0.18829</td>\n",
       "      <td>0.93035</td>\n",
       "      <td>-0.36156</td>\n",
       "      <td>-0.10868</td>\n",
       "      <td>-0.93597</td>\n",
       "      <td>1.00000</td>\n",
       "      <td>-0.04549</td>\n",
       "      <td>...</td>\n",
       "      <td>-0.20332</td>\n",
       "      <td>-0.26569</td>\n",
       "      <td>-0.20468</td>\n",
       "      <td>-0.18401</td>\n",
       "      <td>-0.19040</td>\n",
       "      <td>-0.11593</td>\n",
       "      <td>-0.16626</td>\n",
       "      <td>-0.06288</td>\n",
       "      <td>-0.13738</td>\n",
       "      <td>-0.02447</td>\n",
       "    </tr>\n",
       "    <tr>\n",
       "      <th>2</th>\n",
       "      <td>1</td>\n",
       "      <td>0</td>\n",
       "      <td>1.00000</td>\n",
       "      <td>-0.03365</td>\n",
       "      <td>1.00000</td>\n",
       "      <td>0.00485</td>\n",
       "      <td>1.00000</td>\n",
       "      <td>-0.12062</td>\n",
       "      <td>0.88965</td>\n",
       "      <td>0.01198</td>\n",
       "      <td>...</td>\n",
       "      <td>0.57528</td>\n",
       "      <td>-0.40220</td>\n",
       "      <td>0.58984</td>\n",
       "      <td>-0.22145</td>\n",
       "      <td>0.43100</td>\n",
       "      <td>-0.17365</td>\n",
       "      <td>0.60436</td>\n",
       "      <td>-0.24180</td>\n",
       "      <td>0.56045</td>\n",
       "      <td>-0.38238</td>\n",
       "    </tr>\n",
       "    <tr>\n",
       "      <th>3</th>\n",
       "      <td>1</td>\n",
       "      <td>0</td>\n",
       "      <td>1.00000</td>\n",
       "      <td>-0.45161</td>\n",
       "      <td>1.00000</td>\n",
       "      <td>1.00000</td>\n",
       "      <td>0.71216</td>\n",
       "      <td>-1.00000</td>\n",
       "      <td>0.00000</td>\n",
       "      <td>0.00000</td>\n",
       "      <td>...</td>\n",
       "      <td>1.00000</td>\n",
       "      <td>0.90695</td>\n",
       "      <td>0.51613</td>\n",
       "      <td>1.00000</td>\n",
       "      <td>1.00000</td>\n",
       "      <td>-0.20099</td>\n",
       "      <td>0.25682</td>\n",
       "      <td>1.00000</td>\n",
       "      <td>-0.32382</td>\n",
       "      <td>1.00000</td>\n",
       "    </tr>\n",
       "    <tr>\n",
       "      <th>4</th>\n",
       "      <td>1</td>\n",
       "      <td>0</td>\n",
       "      <td>1.00000</td>\n",
       "      <td>-0.02401</td>\n",
       "      <td>0.94140</td>\n",
       "      <td>0.06531</td>\n",
       "      <td>0.92106</td>\n",
       "      <td>-0.23255</td>\n",
       "      <td>0.77152</td>\n",
       "      <td>-0.16399</td>\n",
       "      <td>...</td>\n",
       "      <td>0.03286</td>\n",
       "      <td>-0.65158</td>\n",
       "      <td>0.13290</td>\n",
       "      <td>-0.53206</td>\n",
       "      <td>0.02431</td>\n",
       "      <td>-0.62197</td>\n",
       "      <td>-0.05707</td>\n",
       "      <td>-0.59573</td>\n",
       "      <td>-0.04608</td>\n",
       "      <td>-0.65697</td>\n",
       "    </tr>\n",
       "  </tbody>\n",
       "</table>\n",
       "<p>5 rows × 34 columns</p>\n",
       "</div>"
      ],
      "text/plain": [
       "   feature1  feature2  feature3  feature4  feature5  feature6  feature7  \\\n",
       "0         1         0   0.99539  -0.05889   0.85243   0.02306   0.83398   \n",
       "1         1         0   1.00000  -0.18829   0.93035  -0.36156  -0.10868   \n",
       "2         1         0   1.00000  -0.03365   1.00000   0.00485   1.00000   \n",
       "3         1         0   1.00000  -0.45161   1.00000   1.00000   0.71216   \n",
       "4         1         0   1.00000  -0.02401   0.94140   0.06531   0.92106   \n",
       "\n",
       "   feature8  feature9  feature10  ...  feature25  feature26  feature27  \\\n",
       "0  -0.37708   1.00000    0.03760  ...    0.56811   -0.51171    0.41078   \n",
       "1  -0.93597   1.00000   -0.04549  ...   -0.20332   -0.26569   -0.20468   \n",
       "2  -0.12062   0.88965    0.01198  ...    0.57528   -0.40220    0.58984   \n",
       "3  -1.00000   0.00000    0.00000  ...    1.00000    0.90695    0.51613   \n",
       "4  -0.23255   0.77152   -0.16399  ...    0.03286   -0.65158    0.13290   \n",
       "\n",
       "   feature28  feature29  feature30  feature31  feature32  feature33  feature34  \n",
       "0   -0.46168    0.21266   -0.34090    0.42267   -0.54487    0.18641   -0.45300  \n",
       "1   -0.18401   -0.19040   -0.11593   -0.16626   -0.06288   -0.13738   -0.02447  \n",
       "2   -0.22145    0.43100   -0.17365    0.60436   -0.24180    0.56045   -0.38238  \n",
       "3    1.00000    1.00000   -0.20099    0.25682    1.00000   -0.32382    1.00000  \n",
       "4   -0.53206    0.02431   -0.62197   -0.05707   -0.59573   -0.04608   -0.65697  \n",
       "\n",
       "[5 rows x 34 columns]"
      ]
     },
     "execution_count": 9,
     "metadata": {},
     "output_type": "execute_result"
    }
   ],
   "source": [
    "X.head()"
   ]
  },
  {
   "cell_type": "markdown",
   "metadata": {},
   "source": [
    "# 3-1. Scikit-learnを使った学習の実行 \n",
    "Pythonのscikit-learnのSVMでionosphereデータの10-fold Cross Validationを実施せよ．\n",
    "\n",
    "予測性能としてprecision, recall, MCC, ROC曲線のAUC値 (AUROC)，F-scoreを求めよ．カーネルはRBFカーネルとし，パラメータは適宜定めよ．\n",
    "\n"
   ]
  },
  {
   "cell_type": "markdown",
   "metadata": {},
   "source": [
    "| | |\n",
    "| ---- | ---- |\n",
    "| precision | 適合率のこと。予測を正と判断した中で、答えも正のもの。計算式は下記を参照。|\n",
    "| recall | \t再現率のこと。答えが正の中で、予測が正とされたもの。計算式は下記を参照。|\n",
    "| MCC | 2値分類モデルの精度をみる指標 マシューズ相関係数 |\n",
    "| ROC曲線のAUC値 (AUROC) |ROC曲線の面積|\n",
    "| F-score | 精度 (Precision) と検出率 (Recall) をバランス良く持ち合わせているかを示す指標 |\n",
    "\n",
    "Precision = TP / (TP + FP)\n",
    "\n",
    "Recall = TPR = Sensitivity = TP / (TP + FN)\n",
    "$$\n",
    "    MCC = \\sqrt{\\frac{\\chi}{n}}\n",
    "$$\n",
    "\\[MCC = sqrt{}{} \\]"
   ]
  },
  {
   "cell_type": "code",
   "execution_count": 10,
   "metadata": {
    "scrolled": false
   },
   "outputs": [
    {
     "name": "stdout",
     "output_type": "stream",
     "text": [
      "Ionosphere dataset\n",
      "Accuracy of Linear SVC classifier on training set: 0.95\n",
      "Accuracy of Linear SVC classifier on test set: 0.99\n"
     ]
    },
    {
     "name": "stderr",
     "output_type": "stream",
     "text": [
      "/usr/lib/python3.7/importlib/_bootstrap.py:219: RuntimeWarning: numpy.ufunc size changed, may indicate binary incompatibility. Expected 192 from C header, got 216 from PyObject\n",
      "  return f(*args, **kwds)\n"
     ]
    }
   ],
   "source": [
    "# from sklearn.svm import LinearSVC\n",
    "from sklearn.svm import SVC\n",
    "from sklearn.model_selection import train_test_split\n",
    "\n",
    "X_train, X_test, y_train, y_test = train_test_split(X, Y, random_state = 0)\n",
    "\n",
    "#clf = LinearSVC().fit(X_train, y_train)\n",
    "model = SVC(kernel='rbf', probability=True).fit(X_train, y_train)\n",
    "\n",
    "print('Ionosphere dataset')\n",
    "print('Accuracy of Linear SVC classifier on training set: {:.2f}'\n",
    "     .format(model.score(X_train, y_train)))\n",
    "print('Accuracy of Linear SVC classifier on test set: {:.2f}'\n",
    "     .format(model.score(X_test, y_test)))"
   ]
  },
  {
   "cell_type": "code",
   "execution_count": 11,
   "metadata": {},
   "outputs": [],
   "source": [
    "from sklearn.metrics import confusion_matrix, precision_score, recall_score, f1_score, matthews_corrcoef\n",
    "from sklearn.metrics import roc_curve, auc\n",
    "\n",
    "def eval_model(y_test, y_pred, y_score):\n",
    "    print('precision score of test set: {:.5f}'.format(precision_score(y_test, y_pred)))\n",
    "    print('recall score of test set: {:.5f}'.format(recall_score(y_test, y_pred)))\n",
    "    print('auc score of test set: {:.5f}'.format(auc(fpr, tpr)))\n",
    "    print('matthews_corrcoef score of test set: {:.5f}'.format(matthews_corrcoef(y_test, y_pred)))\n",
    "    print('f score of test set: {:.5f}'.format(f1_score(y_test, y_pred)))\n",
    "    "
   ]
  },
  {
   "cell_type": "code",
   "execution_count": 12,
   "metadata": {
    "scrolled": true
   },
   "outputs": [
    {
     "name": "stdout",
     "output_type": "stream",
     "text": [
      "precision score of test set: 0.98039\n",
      "recall score of test set: 1.00000\n",
      "auc score of test set: 0.99789\n",
      "matthews_corrcoef score of test set: 0.97703\n",
      "f score of test set: 0.99010\n"
     ]
    }
   ],
   "source": [
    "y_pred = model.predict(X_test)\n",
    "confusion_matrix(y_test, y_pred)\n",
    "\n",
    "y_score = model.predict_proba(X_test)[:, 1]\n",
    "fpr, tpr, thresholds = roc_curve(y_test, y_score)\n",
    "\n",
    "eval_model(y_test, y_pred, y_score)\n",
    "on score of tes\n"
   ]
  },
  {
   "cell_type": "code",
   "execution_count": 13,
   "metadata": {},
   "outputs": [
    {
     "data": {
      "image/png": "[encoded data removed]",
      "text/plain": [
       "<Figure size 432x288 with 1 Axes>"
      ]
     },
     "metadata": {
      "needs_background": "light"
     },
     "output_type": "display_data"
    }
   ],
   "source": [
    "import matplotlib.pyplot as plt\n",
    "\n",
    "plt.plot(fpr, tpr, marker='o')\n",
    "plt.xlabel('FPR: False positive rate')\n",
    "plt.ylabel('TPR: True positive rate')\n",
    "plt.grid()\n",
    "# plt.savefig('data/dst/sklearn_roc_curve.png')"
   ]
  },
  {
   "cell_type": "markdown",
   "metadata": {},
   "source": [
    "## 交差検証する"
   ]
  },
  {
   "cell_type": "code",
   "execution_count": 14,
   "metadata": {},
   "outputs": [],
   "source": [
    "from sklearn.model_selection import KFold\n",
    "from sklearn.model_selection import cross_val_score\n",
    "\n",
    "kf = KFold(n_splits=10, shuffle=True, random_state=42)\n",
    "svm = SVC(kernel='rbf', probability=True)\n",
    "\n",
    "scores = cross_val_score(svm, X=X, y=Y, cv=kf)"
   ]
  },
  {
   "cell_type": "code",
   "execution_count": 15,
   "metadata": {
    "scrolled": false
   },
   "outputs": [
    {
     "name": "stdout",
     "output_type": "stream",
     "text": [
      "precision score of test set: 0.91667\n",
      "recall score of test set: 0.97778\n",
      "auc score of test set: 0.99789\n",
      "matthews_corrcoef score of test set: 0.84493\n",
      "f score of test set: 0.94624\n"
     ]
    }
   ],
   "source": [
    "from sklearn.model_selection import cross_val_predict\n",
    "\n",
    "y_predd = cross_val_predict(svm, X, Y, cv=kf)\n",
    "y_score = cross_val_predict(svm, X, Y, cv=kf, method='predict_proba')\n",
    "\n",
    "eval_model(Y, y_predd, y_score)"
   ]
  },
  {
   "cell_type": "markdown",
   "metadata": {},
   "source": [
    "# 3-2. ハイパーパラメータ探索 \n",
    "ionosphereデータにおいて，より良いRBFカーネルパラメータγとコストパラメータCの値を探索せよ．評価方法は10-fold Cross Validationとし，評価基準はAUROCとF-scoreの2通りを試すこと．"
   ]
  },
  {
   "cell_type": "markdown",
   "metadata": {},
   "source": [
    "### Grid search"
   ]
  },
  {
   "cell_type": "code",
   "execution_count": 129,
   "metadata": {},
   "outputs": [],
   "source": [
    "from sklearn.model_selection import GridSearchCV\n",
    "from multiprocessing import cpu_count\n",
    "\n",
    "\n",
    "def grid(params, model):\n",
    "#     kf = KFold(n_splits=10, shuffle=True, random_state=42)\n",
    "\n",
    "    gs = GridSearchCV\n",
    "    gs = GridSearchCV(estimator=model, param_grid=params, cv=10, n_jobs=cpu_count())\n",
    "\n",
    "    gs.fit(X, Y)\n",
    "    print(gs.best_params_)\n",
    "    \n",
    "    # 評価\n",
    "    y_pred_gs = gs.predict(X)\n",
    "    confusion_matrix(Y, y_pred_gs)\n",
    "\n",
    "    y_score_gs = gs.predict_proba(X)[:, 1]\n",
    "    fpr, tpr, thresholds = roc_curve(Y, y_score_gs)\n",
    "\n",
    "    eval_model(Y, y_pred_gs, y_score_gs)\n",
    "    \n",
    "    return gs"
   ]
  },
  {
   "cell_type": "code",
   "execution_count": 130,
   "metadata": {},
   "outputs": [
    {
     "name": "stdout",
     "output_type": "stream",
     "text": [
      "{'C': 10, 'gamma': 0.1}\n",
      "precision score of test set: 0.98678\n",
      "recall score of test set: 0.99556\n",
      "auc score of test set: 1.00000\n",
      "matthews_corrcoef score of test set: 0.97523\n",
      "f score of test set: 0.99115\n"
     ]
    }
   ],
   "source": [
    "candidate_params = {\n",
    "    'C': [1, 10, 100, 1000],\n",
    "    'gamma': [00.1, 0.1, 1, 10],\n",
    "}\n",
    "    \n",
    "svm = SVC(kernel='rbf', probability=True)\n",
    "\n",
    "gs = grid(candidate_params, svm)"
   ]
  },
  {
   "cell_type": "code",
   "execution_count": 131,
   "metadata": {},
   "outputs": [
    {
     "name": "stdout",
     "output_type": "stream",
     "text": [
      "{'C': 50, 'gamma': 0.3}\n",
      "precision score of test set: 1.00000\n",
      "recall score of test set: 1.00000\n",
      "auc score of test set: 1.00000\n",
      "matthews_corrcoef score of test set: 1.00000\n",
      "f score of test set: 1.00000\n"
     ]
    }
   ],
   "source": [
    "params2 = {\n",
    "    'C': list(range(50, 150, 20)),\n",
    "    'gamma': [i /10 for i in range(1, 6, 1)],\n",
    "}\n",
    "\n",
    "svm = SVC(kernel='rbf', probability=True)\n",
    "gs2 = grid(params2, svm)"
   ]
  },
  {
   "cell_type": "markdown",
   "metadata": {},
   "source": [
    "おそらく分割しすぎ"
   ]
  },
  {
   "cell_type": "markdown",
   "metadata": {},
   "source": [
    "## optuna"
   ]
  },
  {
   "cell_type": "code",
   "execution_count": 99,
   "metadata": {},
   "outputs": [],
   "source": [
    "import optuna\n",
    "from sklearn.metrics import roc_curve, auc\n",
    "\n",
    "def objective(X, y, ev, trial):\n",
    "    params = {\n",
    "        'C': trial.suggest_loguniform('C', 1e+0, 1e+3),\n",
    "        'gamma': trial.suggest_loguniform('gamma', 1e-2, 1e+1),\n",
    "    }\n",
    "    model_opt = SVC(kernel='rbf',**params, probability=True)\n",
    "    kf = KFold(n_splits=10, shuffle=True, random_state=42)\n",
    "    if ev == 'f':     \n",
    "        y_pred = cross_val_predict(model_opt, X, y, cv=kf)\n",
    "        return f1_score(y, y_pred)\n",
    "    elif ev == 'auc':\n",
    "        y_score_op = cross_val_predict(model_opt, X, y, cv=kf, method='predict_proba')[:, 1]\n",
    "        fpr, tpr, thresholds = roc_curve(y, y_score_op)\n",
    "        return auc(fpr, tpr)\n",
    "        "
   ]
  },
  {
   "cell_type": "code",
   "execution_count": 102,
   "metadata": {},
   "outputs": [
    {
     "name": "stderr",
     "output_type": "stream",
     "text": [
      "\u001b[32m[I 2020-04-05 11:16:30,815]\u001b[0m Finished trial#0 with value: 0.9295774647887323 with parameters: {'C': 34.98872716255566, 'gamma': 1.2706791635022787}. Best is trial#0 with value: 0.9295774647887323.\u001b[0m\n",
      "\u001b[32m[I 2020-04-05 11:16:30,965]\u001b[0m Finished trial#1 with value: 0.9393939393939394 with parameters: {'C': 324.89255942895335, 'gamma': 0.012031198753460525}. Best is trial#1 with value: 0.9393939393939394.\u001b[0m\n",
      "\u001b[32m[I 2020-04-05 11:16:31,218]\u001b[0m Finished trial#2 with value: 0.9270588235294117 with parameters: {'C': 1.5566256605318294, 'gamma': 1.2687058236490643}. Best is trial#1 with value: 0.9393939393939394.\u001b[0m\n",
      "\u001b[32m[I 2020-04-05 11:16:31,360]\u001b[0m Finished trial#3 with value: 0.9567099567099567 with parameters: {'C': 9.505673894884236, 'gamma': 0.13360300548928836}. Best is trial#3 with value: 0.9567099567099567.\u001b[0m\n",
      "\u001b[32m[I 2020-04-05 11:16:31,507]\u001b[0m Finished trial#4 with value: 0.9393939393939394 with parameters: {'C': 263.98910152538554, 'gamma': 0.015671689141027862}. Best is trial#3 with value: 0.9567099567099567.\u001b[0m\n",
      "\u001b[32m[I 2020-04-05 11:16:31,747]\u001b[0m Finished trial#5 with value: 0.9497716894977168 with parameters: {'C': 2.479570039035024, 'gamma': 0.6419374281771534}. Best is trial#3 with value: 0.9567099567099567.\u001b[0m\n",
      "\u001b[32m[I 2020-04-05 11:16:32,031]\u001b[0m Finished trial#6 with value: 0.7901234567901235 with parameters: {'C': 591.7307025054632, 'gamma': 8.227189154460246}. Best is trial#3 with value: 0.9567099567099567.\u001b[0m\n",
      "\u001b[32m[I 2020-04-05 11:16:32,301]\u001b[0m Finished trial#7 with value: 0.9219858156028369 with parameters: {'C': 1.1086411822431534, 'gamma': 3.372988322489307}. Best is trial#3 with value: 0.9567099567099567.\u001b[0m\n",
      "\u001b[32m[I 2020-04-05 11:16:32,445]\u001b[0m Finished trial#8 with value: 0.937365010799136 with parameters: {'C': 243.08299641444836, 'gamma': 0.023519805737633907}. Best is trial#3 with value: 0.9567099567099567.\u001b[0m\n",
      "\u001b[32m[I 2020-04-05 11:16:32,722]\u001b[0m Finished trial#9 with value: 0.7929203539823008 with parameters: {'C': 42.6011840740979, 'gamma': 5.309370240189157}. Best is trial#3 with value: 0.9567099567099567.\u001b[0m\n"
     ]
    },
    {
     "data": {
      "text/plain": [
       "{'C': 9.505673894884236, 'gamma': 0.13360300548928836}"
      ]
     },
     "execution_count": 102,
     "metadata": {},
     "output_type": "execute_result"
    }
   ],
   "source": [
    "from functools import partial\n",
    "\n",
    "study_f = optuna.create_study(direction='maximize')\n",
    "f = partial(objective, X, Y, 'f')\n",
    "study_f.optimize(f, n_trials=10)\n",
    "study_f.best_params"
   ]
  },
  {
   "cell_type": "code",
   "execution_count": 104,
   "metadata": {},
   "outputs": [
    {
     "name": "stderr",
     "output_type": "stream",
     "text": [
      "\u001b[32m[I 2020-04-05 11:18:59,391]\u001b[0m Finished trial#0 with value: 0.979400352733686 with parameters: {'C': 22.826508444614397, 'gamma': 0.022825079724530458}. Best is trial#0 with value: 0.979400352733686.\u001b[0m\n",
      "\u001b[32m[I 2020-04-05 11:18:59,531]\u001b[0m Finished trial#1 with value: 0.9550617283950618 with parameters: {'C': 183.61979224550322, 'gamma': 0.018706038556280304}. Best is trial#0 with value: 0.979400352733686.\u001b[0m\n",
      "\u001b[32m[I 2020-04-05 11:18:59,669]\u001b[0m Finished trial#2 with value: 0.977089947089947 with parameters: {'C': 3.7786155557976686, 'gamma': 0.02976568308331559}. Best is trial#0 with value: 0.979400352733686.\u001b[0m\n",
      "\u001b[32m[I 2020-04-05 11:18:59,814]\u001b[0m Finished trial#3 with value: 0.9710758377425044 with parameters: {'C': 4.992979023724102, 'gamma': 0.015186731161614921}. Best is trial#0 with value: 0.979400352733686.\u001b[0m\n",
      "\u001b[32m[I 2020-04-05 11:18:59,946]\u001b[0m Finished trial#4 with value: 0.9772310405643739 with parameters: {'C': 34.5934659217714, 'gamma': 0.043689887145480576}. Best is trial#0 with value: 0.979400352733686.\u001b[0m\n",
      "\u001b[32m[I 2020-04-05 11:19:00,099]\u001b[0m Finished trial#5 with value: 0.972962962962963 with parameters: {'C': 331.3428617470022, 'gamma': 0.19083516643810433}. Best is trial#0 with value: 0.979400352733686.\u001b[0m\n",
      "\u001b[32m[I 2020-04-05 11:19:00,372]\u001b[0m Finished trial#6 with value: 0.9086067019400352 with parameters: {'C': 40.96458233956523, 'gamma': 4.265201775369885}. Best is trial#0 with value: 0.979400352733686.\u001b[0m\n",
      "\u001b[32m[I 2020-04-05 11:19:00,598]\u001b[0m Finished trial#7 with value: 0.9819753086419752 with parameters: {'C': 47.61311835357883, 'gamma': 0.47606582535060527}. Best is trial#7 with value: 0.9819753086419752.\u001b[0m\n",
      "\u001b[32m[I 2020-04-05 11:19:00,744]\u001b[0m Finished trial#8 with value: 0.97668430335097 with parameters: {'C': 1.4856150242233952, 'gamma': 0.03765344293825644}. Best is trial#7 with value: 0.9819753086419752.\u001b[0m\n",
      "\u001b[32m[I 2020-04-05 11:19:00,880]\u001b[0m Finished trial#9 with value: 0.9665255731922399 with parameters: {'C': 69.04073669673744, 'gamma': 0.02267631217197567}. Best is trial#7 with value: 0.9819753086419752.\u001b[0m\n"
     ]
    },
    {
     "data": {
      "text/plain": [
       "{'C': 47.61311835357883, 'gamma': 0.47606582535060527}"
      ]
     },
     "execution_count": 104,
     "metadata": {},
     "output_type": "execute_result"
    }
   ],
   "source": [
    "study_auc = optuna.create_study(direction='maximize')\n",
    "f = partial(objective, X, Y, 'auc')\n",
    "study_auc.optimize(f, n_trials=10)\n",
    "study_auc.best_params"
   ]
  },
  {
   "cell_type": "code",
   "execution_count": null,
   "metadata": {},
   "outputs": [],
   "source": []
  }
 ],
 "metadata": {
  "kernelspec": {
   "display_name": "Python 3",
   "language": "python",
   "name": "python3"
  },
  "language_info": {
   "codemirror_mode": {
    "name": "ipython",
    "version": 3
   },
   "file_extension": ".py",
   "mimetype": "text/x-python",
   "name": "python",
   "nbconvert_exporter": "python",
   "pygments_lexer": "ipython3",
   "version": "3.7.5"
  }
 },
 "nbformat": 4,
 "nbformat_minor": 4
}
